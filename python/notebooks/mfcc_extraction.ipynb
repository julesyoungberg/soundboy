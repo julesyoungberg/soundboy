{
 "cells": [
  {
   "cell_type": "code",
   "execution_count": 2,
   "metadata": {},
   "outputs": [],
   "source": [
    "import os\n",
    "import shutil\n",
    "import essentia.standard\n",
    "import numpy as np\n",
    "import essentia"
   ]
  },
  {
   "cell_type": "code",
   "execution_count": 12,
   "metadata": {},
   "outputs": [],
   "source": [
    "def get_mfccs(filename):\n",
    "    sr = 22050\n",
    "    duration = 3\n",
    "    nfft = 2048\n",
    "\n",
    "    loader = essentia.standard.MonoLoader(filename=filename, sampleRate=sr)\n",
    "    audio = loader()\n",
    "\n",
    "    if (len(audio) > duration * sr):\n",
    "        audio = audio[:duration * sr]\n",
    "\n",
    "    n_coef = 13\n",
    "    n_bands = 40\n",
    "    frame_size = 2048\n",
    "    hop = 1024\n",
    "\n",
    "    w = essentia.standard.Windowing(type='hann')\n",
    "    spectrum = essentia.standard.Spectrum()\n",
    "    mfcc = essentia.standard.MFCC(\n",
    "        numberCoefficients=n_coef, sampleRate=sr, numberBands=n_bands)\n",
    "\n",
    "    mfccs = []\n",
    "\n",
    "    for frame in essentia.standard.FrameGenerator(audio, frameSize=frame_size, hopSize=hop):\n",
    "        mfcc_bands, mfcc_coeffs = mfcc(spectrum(w(frame)))\n",
    "        mfccs.append(mfcc_coeffs)\n",
    "\n",
    "    mfccs = essentia.array(mfccs).T\n",
    "    return mfccs"
   ]
  },
  {
   "cell_type": "code",
   "execution_count": 13,
   "metadata": {},
   "outputs": [
    {
     "data": {
      "text/plain": [
       "(13, 45)"
      ]
     },
     "execution_count": 13,
     "metadata": {},
     "output_type": "execute_result"
    }
   ],
   "source": [
    "py_mfccs = get_mfccs('../Train/Kicks/1-KICK.wav')\n",
    "py_mfccs.shape"
   ]
  },
  {
   "cell_type": "code",
   "execution_count": null,
   "metadata": {},
   "outputs": [],
   "source": []
  }
 ],
 "metadata": {
  "kernelspec": {
   "display_name": "Python 3",
   "language": "python",
   "name": "python3"
  },
  "language_info": {
   "codemirror_mode": {
    "name": "ipython",
    "version": 3
   },
   "file_extension": ".py",
   "mimetype": "text/x-python",
   "name": "python",
   "nbconvert_exporter": "python",
   "pygments_lexer": "ipython3",
   "version": "3.6.8"
  }
 },
 "nbformat": 4,
 "nbformat_minor": 4
}
