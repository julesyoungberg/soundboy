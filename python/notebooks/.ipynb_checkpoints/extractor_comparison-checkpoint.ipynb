{
 "cells": [
  {
   "cell_type": "code",
   "execution_count": 4,
   "metadata": {},
   "outputs": [],
   "source": [
    "import essentia\n",
    "import essentia.standard\n",
    "import json\n",
    "import numpy as np\n",
    "import os\n",
    "import shutil"
   ]
  },
  {
   "cell_type": "code",
   "execution_count": 38,
   "metadata": {},
   "outputs": [],
   "source": [
    "filename = 'BD06.WAV'\n",
    "sr = 22050\n",
    "duration = 3\n",
    "nfft = 2048\n",
    "\n",
    "loader = essentia.standard.MonoLoader(filename='./samples/' + filename, sampleRate=sr)\n",
    "audio = loader()\n",
    "\n",
    "if (len(audio) > duration * sr):\n",
    "    audio = audio[:duration * sr]\n",
    "\n",
    "n_coef = 13\n",
    "n_bands = 40\n",
    "frame_size = 2048\n",
    "hop = 1024\n",
    "\n",
    "w = essentia.standard.Windowing(type='hann')\n",
    "spectrum = essentia.standard.Spectrum()\n",
    "mfcc = essentia.standard.MFCC(\n",
    "    numberCoefficients=n_coef, sampleRate=sr, numberBands=n_bands)\n",
    "\n",
    "mfccs = []\n",
    "\n",
    "frames = essentia.standard.FrameGenerator(audio, frameSize=frame_size, hopSize=hop)\n",
    "py_frames = []\n",
    "for frame in frames:\n",
    "    mfcc_bands, mfcc_coeffs = mfcc(spectrum(w(frame)))\n",
    "    mfccs.append(mfcc_coeffs)\n",
    "    py_frames.append(np.array(frame))\n",
    "\n",
    "#     mfccs = essentia.array(mfccs).T\n",
    "#     pad_width = 95 - mfccs.shape[1]\n",
    "#     mfccs = np.pad(mfccs, pad_width=((0, 0), (0, pad_width)), \n",
    "#                    mode='constant', constant_values=(0, 0))"
   ]
  },
  {
   "cell_type": "code",
   "execution_count": 39,
   "metadata": {},
   "outputs": [
    {
     "data": {
      "text/plain": [
       "(45, 13)"
      ]
     },
     "execution_count": 39,
     "metadata": {},
     "output_type": "execute_result"
    }
   ],
   "source": [
    "py_mfccs = np.array(mfccs)\n",
    "py_mfccs.shape"
   ]
  },
  {
   "cell_type": "code",
   "execution_count": 46,
   "metadata": {},
   "outputs": [],
   "source": [
    "def get_json(filename):\n",
    "    with open(filename) as f:\n",
    "        return json.load(f)"
   ]
  },
  {
   "cell_type": "code",
   "execution_count": 48,
   "metadata": {},
   "outputs": [
    {
     "data": {
      "text/plain": [
       "(19, 12)"
      ]
     },
     "execution_count": 48,
     "metadata": {},
     "output_type": "execute_result"
    }
   ],
   "source": [
    "data = get_json('./mfccs/' + filename + '-mfccs.json')\n",
    "js_mfccs = np.array(data)\n",
    "js_mfccs.shape"
   ]
  },
  {
   "cell_type": "code",
   "execution_count": 49,
   "metadata": {},
   "outputs": [
    {
     "data": {
      "text/plain": [
       "(45, 11)"
      ]
     },
     "execution_count": 49,
     "metadata": {},
     "output_type": "execute_result"
    }
   ],
   "source": [
    "py_mfccs = py_mfccs[:, 1:]\n",
    "py_mfccs.shape"
   ]
  },
  {
   "cell_type": "code",
   "execution_count": 50,
   "metadata": {},
   "outputs": [
    {
     "data": {
      "text/plain": [
       "(44100,)"
      ]
     },
     "execution_count": 50,
     "metadata": {},
     "output_type": "execute_result"
    }
   ],
   "source": [
    "py_buffer = np.array(audio)\n",
    "py_buffer.shape"
   ]
  },
  {
   "cell_type": "code",
   "execution_count": 51,
   "metadata": {},
   "outputs": [
    {
     "data": {
      "text/plain": [
       "(44100,)"
      ]
     },
     "execution_count": 51,
     "metadata": {},
     "output_type": "execute_result"
    }
   ],
   "source": [
    "data = get_json('./buffers/' + filename + '-samples.json')\n",
    "js_buffer = np.array(data)\n",
    "js_buffer.shape"
   ]
  },
  {
   "cell_type": "code",
   "execution_count": 45,
   "metadata": {},
   "outputs": [
    {
     "data": {
      "text/plain": [
       "(45, 2048)"
      ]
     },
     "execution_count": 45,
     "metadata": {},
     "output_type": "execute_result"
    }
   ],
   "source": [
    "py_frames = np.array(py_frames)\n",
    "py_frames.shape"
   ]
  },
  {
   "cell_type": "code",
   "execution_count": 52,
   "metadata": {},
   "outputs": [
    {
     "data": {
      "text/plain": [
       "(19, 2048)"
      ]
     },
     "execution_count": 52,
     "metadata": {},
     "output_type": "execute_result"
    }
   ],
   "source": [
    "data = get_json('./frames/' + filename + '-frames.json')\n",
    "js_frames = np.array(data)\n",
    "js_frames.shape"
   ]
  },
  {
   "cell_type": "code",
   "execution_count": 25,
   "metadata": {},
   "outputs": [],
   "source": [
    "# if importing matplot lib you must run this and restart the kernal :(\n",
    "# pip install -U numpy"
   ]
  },
  {
   "cell_type": "code",
   "execution_count": 26,
   "metadata": {},
   "outputs": [],
   "source": [
    "import matplotlib.pyplot as plt"
   ]
  },
  {
   "cell_type": "code",
   "execution_count": null,
   "metadata": {},
   "outputs": [],
   "source": [
    "n_frames = 0\n",
    "offset = 0\n",
    "while offset < "
   ]
  }
 ],
 "metadata": {
  "kernelspec": {
   "display_name": "Python 3",
   "language": "python",
   "name": "python3"
  },
  "language_info": {
   "codemirror_mode": {
    "name": "ipython",
    "version": 3
   },
   "file_extension": ".py",
   "mimetype": "text/x-python",
   "name": "python",
   "nbconvert_exporter": "python",
   "pygments_lexer": "ipython3",
   "version": "3.6.8"
  }
 },
 "nbformat": 4,
 "nbformat_minor": 4
}
